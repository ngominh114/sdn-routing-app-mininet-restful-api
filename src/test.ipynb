{
 "metadata": {
  "language_info": {
   "codemirror_mode": {
    "name": "ipython",
    "version": 3
   },
   "file_extension": ".py",
   "mimetype": "text/x-python",
   "name": "python",
   "nbconvert_exporter": "python",
   "pygments_lexer": "ipython3",
   "version": "3.7.10"
  },
  "orig_nbformat": 2,
  "kernelspec": {
   "name": "python3710jvsc74a57bd0fd69f43f58546b570e94fd7eba7b65e6bcc7a5bbc4eab0408017d18902915d69",
   "display_name": "Python 3.7.10 64-bit"
  },
  "metadata": {
   "interpreter": {
    "hash": "fd69f43f58546b570e94fd7eba7b65e6bcc7a5bbc4eab0408017d18902915d69"
   }
  }
 },
 "nbformat": 4,
 "nbformat_minor": 2,
 "cells": [
  {
   "cell_type": "code",
   "execution_count": 1,
   "metadata": {},
   "outputs": [],
   "source": [
    "from data.data import RoutingData\n",
    "from net.object import Device\n",
    "from net.object import Link\n",
    "from net.object import Host\n",
    "from net.object import ConnectPoint\n",
    "from path.graph import Graph\n",
    "from path.pathCreate import PathCreator\n",
    "from data import dataAPI"
   ]
  },
  {
   "cell_type": "code",
   "execution_count": 2,
   "metadata": {},
   "outputs": [],
   "source": [
    "connect1 = ConnectPoint(\"1\", \"1\")\n",
    "connect2 = ConnectPoint(\"2\", \"2\")"
   ]
  },
  {
   "cell_type": "code",
   "execution_count": 3,
   "metadata": {},
   "outputs": [],
   "source": [
    "links = []\n",
    "hosts = []\n",
    "devices = []"
   ]
  },
  {
   "cell_type": "code",
   "execution_count": 4,
   "metadata": {},
   "outputs": [],
   "source": [
    "link = Link(connect1, connect2, 0.1)\n",
    "link2 = Link(connect2, connect1, 0.2)\n",
    "links.append(link)\n",
    "links.append(link2)"
   ]
  },
  {
   "cell_type": "code",
   "execution_count": 5,
   "metadata": {},
   "outputs": [],
   "source": [
    "device1 = Device(\"1\", \"192.168.1.1\")\n",
    "device2 = Device(\"2\", \"192.168.1.1\")\n",
    "devices.append(device1)\n",
    "devices.append(device2)"
   ]
  },
  {
   "cell_type": "code",
   "execution_count": 6,
   "metadata": {},
   "outputs": [],
   "source": [
    "host1 = Host(\"HIHI\", connect1)\n",
    "host2 = Host(\"Haha\", connect2)\n",
    "hosts.append(host1)\n",
    "hosts.append(host2)"
   ]
  },
  {
   "cell_type": "code",
   "execution_count": 7,
   "metadata": {},
   "outputs": [
    {
     "output_type": "stream",
     "name": "stdout",
     "text": [
      "{\n    \"hosts\": [\n        {\n            \"mac\": \"HIHI\",\n            \"connectPoint\": {\n                \"deviceId\": \"1\",\n                \"port\": \"1\"\n            }\n        },\n        {\n            \"mac\": \"Haha\",\n            \"connectPoint\": {\n                \"deviceId\": \"2\",\n                \"port\": \"2\"\n            }\n        }\n    ],\n    \"links\": [\n        {\n            \"src\": {\n                \"deviceId\": \"1\",\n                \"port\": \"1\"\n            },\n            \"dst\": {\n                \"deviceId\": \"2\",\n                \"port\": \"2\"\n            },\n            \"delay\": 0.1\n        },\n        {\n            \"src\": {\n                \"deviceId\": \"2\",\n                \"port\": \"2\"\n            },\n            \"dst\": {\n                \"deviceId\": \"1\",\n                \"port\": \"1\"\n            },\n            \"delay\": 0.2\n        }\n    ],\n    \"devices\": [\n        {\n            \"id\": \"1\",\n            \"controller_address\": \"192.168.1.1\"\n        },\n        {\n            \"id\": \"2\",\n            \"controller_address\": \"192.168.1.1\"\n        }\n    ]\n}\n"
     ]
    }
   ],
   "source": [
    "data = dataAPI.read()\n",
    "dataAPI.save(data)"
   ]
  },
  {
   "cell_type": "code",
   "execution_count": 8,
   "metadata": {},
   "outputs": [],
   "source": [
    "graph = Graph(data)"
   ]
  },
  {
   "cell_type": "code",
   "execution_count": 9,
   "metadata": {},
   "outputs": [],
   "source": [
    "graph.updateGraph(data)"
   ]
  },
  {
   "cell_type": "code",
   "execution_count": 10,
   "metadata": {},
   "outputs": [],
   "source": [
    "pathCreator = PathCreator(graph)"
   ]
  },
  {
   "cell_type": "code",
   "execution_count": 11,
   "metadata": {},
   "outputs": [
    {
     "output_type": "stream",
     "name": "stdout",
     "text": [
      "[<net.object.Link object at 0x7f145027ea90>]\n"
     ]
    }
   ],
   "source": [
    "print(pathCreator.createPath(\"1\",\"2\"))"
   ]
  },
  {
   "cell_type": "code",
   "execution_count": 2,
   "metadata": {},
   "outputs": [],
   "source": []
  },
  {
   "cell_type": "code",
   "execution_count": 9,
   "metadata": {},
   "outputs": [
    {
     "output_type": "stream",
     "name": "stdout",
     "text": [
      "{'deviceId': '1', 'port': '1'}\n"
     ]
    }
   ],
   "source": [
    "print(a['links'][0]['src'])"
   ]
  },
  {
   "cell_type": "code",
   "execution_count": 4,
   "metadata": {},
   "outputs": [
    {
     "output_type": "execute_result",
     "data": {
      "text/plain": [
       "'1'"
      ]
     },
     "metadata": {},
     "execution_count": 4
    }
   ],
   "source": [
    "links[0].src.deviceId"
   ]
  },
  {
   "cell_type": "code",
   "execution_count": null,
   "metadata": {},
   "outputs": [],
   "source": []
  }
 ]
}